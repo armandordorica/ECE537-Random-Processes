{
  "nbformat": 4,
  "nbformat_minor": 0,
  "metadata": {
    "colab": {
      "name": "ECE 537 notes Midterm 1.ipynb",
      "provenance": [],
      "collapsed_sections": []
    },
    "kernelspec": {
      "name": "python3",
      "display_name": "Python 3"
    }
  },
  "cells": [
    {
      "cell_type": "markdown",
      "metadata": {
        "id": "mDmdxeUUcJ-y",
        "colab_type": "text"
      },
      "source": [
        "$A$ and $B$ are disjoint or mutually exclusive if they contain no common element, that is, if $A\\bigcap B = \\oslash $\n",
        "\n",
        "### Properties of Sets \n",
        "i) If $A \\bigcap B = \\oslash$ then $|A \\bigcup B| = |A| + |B|$ \\\\\n",
        "ii) $|\\oslash| = 0$ \\\\\n",
        "iii) If $A \\subset B$, then $|A| \\leq |B|$ \\\\\n",
        "iv) $|A \\bigcup B| + |A \\bigcap B| = |A| + |B|$\n",
        "\n",
        "### Prove that something is true by induction\n",
        "1. Show that it's true for $n=1$\n",
        "2. Show that it's true for $n=k$\n",
        "3. Show that it's true for $n=k+1$\n",
        "\n",
        "### Countability \n",
        "* A set $S$ is countable if there exists an injective function $f$ from $S$ to the natural numbers $N = {0, 1, 2, 3, ...}.$ \\\\\n",
        "* If such an $f$ can be found that is also surjective (and therefore bijective), then $S$ is called countably infinite. \\\\\n",
        "* In other words, a set is countably infinite if it has one-to-one correspondence with the natural number set, $N$. \\\\\n",
        "![](https://upload.wikimedia.org/wikipedia/commons/thumb/0/02/Injection.svg/360px-Injection.svg.png)\n",
        "An injective non-surjective function (injection, not a bijection ) \\\\\n",
        "![](https://upload.wikimedia.org/wikipedia/commons/thumb/a/a5/Bijection.svg/360px-Bijection.svg.png) \n",
        "An injective surjective function (bijection) \\\\\n",
        "![](https://upload.wikimedia.org/wikipedia/commons/thumb/6/6c/Surjection.svg/360px-Surjection.svg.png) \n",
        "A non-injective surjective function (surjection, not a bijection) \\\\\n",
        "![](https://upload.wikimedia.org/wikipedia/commons/thumb/d/d1/Not-Injection-Surjection.svg/360px-Not-Injection-Surjection.svg.png)\n",
        "A non-injective non-surjective function (also not a bijection) \\\\\n",
        "\n",
        "### Cantor's Diagonal Argument \n",
        "Interval $(0,1)$ is uncountable because you cannot form a one to one mapping between all the real numbers and the natural numbers\n",
        "\n",
        "### Pairwise Independence\n",
        "A pair of random variables $X$ and $Y$ are independent if and only if the random vector $(X, Y)$ with joint cumulative distribution function (CDF) \n",
        "${\\displaystyle F_{X,Y}(x,y)}$ satisfies \\\\\n",
        "$${\\displaystyle F_{X,Y}(x,y)=F_{X}(x)F_{Y}(y)}$$\n",
        "\n",
        "or equivalently, their joint density ${\\displaystyle f_{X,Y}(x,y)}$ satisfies\n",
        "$${\\displaystyle f_{X,Y}(x,y)=f_{X}(x)f_{Y}(y)}$$\n",
        "\n",
        "Pairwise independence does not imply joint independence and viceversa. Pairwise independence is saying A and B, A and C, and B and C are all pairwise independent. \n",
        "Joint independence is saying that the intersection of A, B, and C is not the same as the product of the individual probabilities of each set. \n",
        "\n",
        "\n",
        "## Sigma Algebras \n",
        "Let $X$ be some set, and let ${\\displaystyle {\\mathcal {P}}(X)}{\\mathcal {P}}(X)$ represent its power set. Then a subset ${\\displaystyle \\Sigma \\subseteq {\\mathcal {P}}(X)}{\\displaystyle \\Sigma \\subseteq {\\mathcal {P}}(X)}$ is called a $\\sigma$-algebra if it satisfies the following three properties:\n",
        "\n",
        "* $X$ is in $\\sum$, and $X$ is considered to be the universal set in the following context.\n",
        "* $\\sum$ is closed under complementation: If $A$ is in $Σ$, then so is its complement, $X \\ A$.\n",
        "* $Σ$ is closed under countable unions: If $A1, A2, A3, ...$ are in $Σ$, then so is $A = A1 ∪ A2 ∪ A3 ∪ … $.\n",
        "From these properties, it follows that the σ-algebra is also closed under countable intersections (by applying De Morgan's laws).\n",
        "\n",
        "*${X, ∅}$ is the smallest possible σ-algebra on X. The largest possible \n",
        "$σ$-algebra on $X$ is $2^X:={\\displaystyle {\\mathcal {P}}(X)}{\\mathcal {P}}(X)$.\n",
        "\n",
        "## Binomial Distribution\n",
        "If the random variable X follows the binomial distribution with parameters $n ∈ ℕ$ and $p ∈ [0,1]$, we write $X ~ B(n, p)$. The probability of getting exactly $k$ successes in $n$ trials is given by the probability mass function:\n",
        "\n",
        "${\\displaystyle f(k,n,p)=\\Pr(k;n,p)=\\Pr(X=k)={\\binom {n}{k}}p^{k}(1-p)^{n-k}}$\n",
        "for $k = 0, 1, 2, ..., n,$ where\n",
        "\n",
        "${\\displaystyle {\\binom {n}{k}}={\\frac {n!}{k!(n-k)!}}}{\\displaystyle {\\binom {n}{k}}={\\frac {n!}{k!(n-k)!}}}$\n",
        "is the binomial coefficient, hence the name of the distribution. \\\\\n",
        "\n",
        "The formula can be understood as follows: $k$ successes occur with probability $p^k$ and $n − k$ failures occur with probability $(1 − p)^{n − k}$. However, the $k$ successes can occur anywhere among the n trials, and there are \n",
        "${\\binom {n}{k}}$ different ways of distributing $k$ successes in a sequence of $n$ trials.\n",
        "\n",
        "## Law of Total Probability \n",
        "![](https://www.statisticshowto.datasciencecentral.com/wp-content/uploads/2016/04/total-probability-rule.png) \n",
        "\n",
        "\\\\\n",
        "$P(A ∩ B) = P(A | B) * P(B) + P(A ∩ B^c) = P(A | B^c)P(B^c)$.\n",
        "\n",
        "## Bayes' Rule \n",
        "${\\displaystyle P(A\\mid B)={\\frac {P(B\\mid A)P(A)}{P(B)}}}$\n",
        "\n"
      ]
    },
    {
      "cell_type": "markdown",
      "metadata": {
        "id": "GF2FzCr0kAB7",
        "colab_type": "text"
      },
      "source": [
        "## Binomial coefficient \n",
        "Number of ways, disregarding order, that $k$ objects can be chosen from among $n$ objects\n",
        "![](https://wikimedia.org/api/rest_v1/media/math/render/svg/a2457a7ef3c77831e34e06a1fe17a80b84a03181)\n",
        "\n",
        "## Binomial Distribution (probability with replacement) \n",
        "The probability of getting exactly $k$ successes in $n$ trials is given by the probability mass function:\n",
        "\n",
        "${\\displaystyle f(k,n,p)=\\Pr(k;n,p)=\\Pr(X=k)={\\binom {n}{k}}p^{k}(1-p)^{n-k}}$\n",
        "where $p$ is the probability of success. \n",
        "\n",
        "Cumulative distribution function for Binomial Coefficient\n",
        "The cumulative distribution function can be expressed as:\n",
        "\n",
        "${\\displaystyle F(k;n,p)=\\Pr(X\\leq k)=\\sum _{i=0}^{\\lfloor k\\rfloor }{n \\choose i}p^{i}(1-p)^{n-i}}$\n",
        "\n",
        "## Hypergeometric distribution (probability without replacement)\n",
        "The following conditions characterize the hypergeometric distribution:\n",
        "\n",
        "* The result of each draw (the elements of the population being sampled) can be classified into one of two mutually exclusive categories (e.g. Pass/Fail or Employed/Unemployed).\n",
        "* The probability of a success changes on each draw, as each draw decreases the population (sampling without replacement from a finite population).\n",
        "* A random variable ${\\displaystyle X}$ follows the hypergeometric distribution if its probability mass function (pmf) is given by:\n",
        "\n",
        "\n",
        "${\\displaystyle p_{X}(k)=\\Pr(X=k)={\\frac {{\\binom {K}{k}}{\\binom {N-K}{n-k}}}{\\binom {N}{n}}},}$\n",
        "where\n",
        "\n",
        "$N$ is the population size,\n",
        "$K$ is the number of success states in the population,\n",
        "$n$ is the number of draws (i.e. quantity drawn in each trial),\n",
        "$k$ is the number of observed successes,\n",
        "${\\textstyle \\textstyle {a \\choose b}}$ is a binomial coefficient.\n",
        "\n",
        "\n"
      ]
    },
    {
      "cell_type": "markdown",
      "metadata": {
        "id": "U3nRcs2j0w_x",
        "colab_type": "text"
      },
      "source": [
        "# Assignment 4a\n",
        "7.17 A fair die is tosses 20 times. Bound the probability that the toal number of dots is between 60 and 80. \n",
        "$P[|M_n - \\mu| < \\varepsilon] >= 1 - \\frac{\\sigma^2}{n\\varepsilon^2}$\n",
        "In this case:\n",
        "* $M_n$ is the sum of the outcomes/20. \n",
        "* $\\varepsilon$ is the difference between the expected value differences at the edges of the bound. For 60, the expected value would be 3 and for 80, the expected value would be 4. For a normal die, the expected value is \n",
        "$(1+2+3+$+5+6)/6= 3.5$. \n",
        "\n",
        "Therefore  $|\\varepsilon - 4| = |\\varepsilon - 3|=0.5$\n",
        "* $n = 20$ because that's how many times we roll the die. \n",
        "* $\\sigma^2 = [(1-3.5)^2 +(2-3.5)^2 +(3-3.5)^2 +(4-3.5)^2 +(5-3.5)^2 +(6-3.5)^2]/6 = 2.91667$\n",
        "\n",
        "Finally  $P[60<S_20<80] = P[3< \\frac{S_{20}}{20} < 4]$ \\\\\n",
        "$= P [|\\frac{S_{20}}{20}-3.5| < 0.5] \\geqslant 1 - \\frac{2.92}{(20)(0.5)^2} $\n",
        "\n",
        "$ = 0.416 $\n",
        "\n"
      ]
    },
    {
      "cell_type": "markdown",
      "metadata": {
        "id": "YoGPoUNT1G-8",
        "colab_type": "text"
      },
      "source": [
        "7.21 (The sample variance) Let be an iid sequence of random variables for which\n",
        "the mean and variance are unknown.The sample variance is defined as follows:![alt text](https://)"
      ]
    },
    {
      "cell_type": "markdown",
      "metadata": {
        "id": "e1AevMOCBv1a",
        "colab_type": "text"
      },
      "source": [
        "### Central Limit Theorem \n",
        "$S_n = X_1 + X_2 + ... + X_n$ --> sum of the random variables. If $X_i$s are independent and identically distributed, $S_n$ has mean $n\\mu$ and variance  $n\\sigma^2$. \n",
        "\n",
        "To normalize this sum: \n",
        "\n",
        "$Z_n= \\frac{S_n -n\\mu}{\\sigma\\sqrt{n}}$\n",
        "\n",
        "If ${\\displaystyle Y}$  is a Gaussian random variable with mean $\\mu$  and variance $\\sigma ^{2}$, then ${\\displaystyle X={\\frac {Y-\\mu }{\\sigma }}}$ \n",
        "\n",
        " is standard normal and\n",
        "\n",
        "${\\displaystyle P(Y>y)=P(X>x)=Q(x)}$\n",
        "where ${\\displaystyle x={\\frac {y-\\mu }{\\sigma }}}$.\n",
        "\n",
        "Formally, the Q-function is defined as\n",
        "\n",
        "$Q(x) = \\frac{1}{\\sqrt{2\\pi}} \\int_x^\\infty \\exp\\left(-\\frac{u^2}{2}\\right) \\, du.$\n",
        "\n",
        "\n",
        "Thus,\n",
        "\n",
        "$Q(x) = 1 - Q(-x) = 1 - \\Phi(x)\\,\\!$\n",
        "\n",
        "![](https://upload.wikimedia.org/wikipedia/commons/thumb/c/c3/Q-function.png/800px-Q-function.png)\n",
        "\n",
        "A fair coin is tossed 100 times. Find the probability that the number of heads is between 40 and 60. \n",
        "This is what you want : $P(40\\leqslant S_n \\leqslant 60)$\n",
        "1. Convert it into $Zn$:\n",
        " $P(40\\leqslant S_n \\leqslant 60) = P(-2 \\leqslant Z_n \\leqslant 2)$\n",
        "2. Get the Q values:  $Q(-2) - Q(2) = 1- 2Q(2)$\n",
        "\n",
        "## Bernoulli random variable \n",
        "Sample mean of the sum of Bernoulli random variables is $\\mu$ and variance $\\frac{1}{n}{p(1-p)}$\n",
        "\n",
        "For a **binomial random variable** the mean is $np$ and the variance $np(1-p)$\n",
        "### Relative frequency\n",
        "relative frequency is simply the sample mean of the random variables\n",
        "\n",
        "\n",
        "## Poisson Random variable \n",
        "Probability of a given number of events occurring in a fixed interval of time or space if these events occur with a known constant rate and independently of the time since the last event. \n",
        "\n",
        "For instance, an individual keeping track of the amount of mail they receive each day may notice that they receive an average number of 4 letters per day. If receiving any particular piece of mail does not affect the arrival times of future pieces of mail, i.e., if pieces of mail from a wide range of sources arrive independently of one another, then a reasonable assumption is that the number of pieces of mail received in a day obeys a Poisson distribution. Other examples that may follow a Poisson distribution include the number of phone calls received by a call center per hour and the number of decay events per second from a radioactive source.\n",
        "\n",
        "A discrete random variable X  is said to have a Poisson distribution with parameter λ > 0, if, for k = 0, 1, 2, ..., the probability mass function of X  is given by:\n",
        "\n",
        "\n",
        "$\\!f(k;\\lambda)=\\Pr(X=k)= \\frac{\\lambda^{k}e^{-k}}{k!}$ \n",
        "\n",
        "The positive real number λ is equal to the expected value of X and also to its variance\n",
        "\n",
        "${\\displaystyle \\lambda =\\operatorname {E} (X)=\\operatorname {Var} (X)}$ \n",
        "\n",
        "### Poisson and Exponential Random Variables \n",
        "If for every $t > 0$ the number of arrivals in the time interval $[0, t]$ follows the Poisson distribution with mean $λt$, then the sequence of inter-arrival times are independent and identically distributed exponential random variables having mean $\\frac{1}{λ}$\n",
        "\n",
        "For exponential random variables "
      ]
    },
    {
      "cell_type": "code",
      "metadata": {
        "id": "YSff26Oy0wkM",
        "colab_type": "code",
        "colab": {}
      },
      "source": [
        ""
      ],
      "execution_count": 0,
      "outputs": []
    },
    {
      "cell_type": "code",
      "metadata": {
        "id": "DItFVm68j92N",
        "colab_type": "code",
        "colab": {}
      },
      "source": [
        "import numpy as np\n",
        "import pandas as pd\n",
        "import math\n",
        "from random import  uniform\n",
        "import matplotlib\n",
        "import matplotlib.pyplot as plt"
      ],
      "execution_count": 0,
      "outputs": []
    },
    {
      "cell_type": "code",
      "metadata": {
        "id": "HToOZDSlKzwY",
        "colab_type": "code",
        "colab": {}
      },
      "source": [
        "num_throws = 10000\n",
        "w = uniform(0,1)\n",
        "ws = np.zeros(num_throws)\n",
        "zns = np.zeros(num_throws)"
      ],
      "execution_count": 0,
      "outputs": []
    },
    {
      "cell_type": "code",
      "metadata": {
        "id": "IglaJpPMMvTi",
        "colab_type": "code",
        "colab": {}
      },
      "source": [
        "for i in range (0, len(ws)):\n",
        "  w = uniform(0,1)\n",
        "  ws[i] = w\n",
        "  zns[i]=math.cos(2*math.pi*w)**2\n",
        "\n",
        "x_values = np.arange(0,num_throws)"
      ],
      "execution_count": 0,
      "outputs": []
    },
    {
      "cell_type": "code",
      "metadata": {
        "id": "DzRu9hUnOFsd",
        "colab_type": "code",
        "outputId": "226b0b00-3d05-4f03-e907-a243ffaf8959",
        "colab": {
          "base_uri": "https://localhost:8080/",
          "height": 295
        }
      },
      "source": [
        "fig, ax = plt.subplots()\n",
        "ax.plot(x_values, zns)\n",
        "\n",
        "ax.set(xlabel='time (s)', ylabel='voltage (mV)',\n",
        "       title='About as simple as it gets, folks')\n",
        "ax.grid()\n",
        "\n",
        "plt.show()"
      ],
      "execution_count": 0,
      "outputs": [
        {
          "output_type": "display_data",
          "data": {
            "image/png": "[encoded data removed]",
            "text/plain": [
              "<Figure size 432x288 with 1 Axes>"
            ]
          },
          "metadata": {
            "tags": []
          }
        }
      ]
    },
    {
      "cell_type": "code",
      "metadata": {
        "id": "YVg-i9_UM5E4",
        "colab_type": "code",
        "outputId": "defe70d7-e2eb-4615-fc05-60c119d81616",
        "colab": {
          "base_uri": "https://localhost:8080/",
          "height": 286
        }
      },
      "source": [
        "matplotlib.pyplot.scatter(x_values, zns)"
      ],
      "execution_count": 0,
      "outputs": [
        {
          "output_type": "execute_result",
          "data": {
            "text/plain": [
              "<matplotlib.collections.PathCollection at 0x7f3273469a58>"
            ]
          },
          "metadata": {
            "tags": []
          },
          "execution_count": 60
        },
        {
          "output_type": "display_data",
          "data": {
            "image/png": "[encoded data removed]",
            "text/plain": [
              "<Figure size 432x288 with 1 Axes>"
            ]
          },
          "metadata": {
            "tags": []
          }
        }
      ]
    },
    {
      "cell_type": "code",
      "metadata": {
        "id": "CvKC62KcPSPm",
        "colab_type": "code",
        "colab": {}
      },
      "source": [
        ""
      ],
      "execution_count": 0,
      "outputs": []
    }
  ]
}